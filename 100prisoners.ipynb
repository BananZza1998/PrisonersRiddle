{
 "cells": [
  {
   "cell_type": "code",
   "execution_count": 1,
   "id": "055aa227",
   "metadata": {},
   "outputs": [],
   "source": [
    "import random\n",
    "import pandas as pd"
   ]
  },
  {
   "cell_type": "code",
   "execution_count": 39,
   "id": "874b935c",
   "metadata": {},
   "outputs": [],
   "source": [
    "n = 1\n",
    "failures = []\n",
    "while n <= 100: # Number of iterations to collect a sample\n",
    "    \n",
    "    # Creating a prison setup\n",
    "    boxes = random.sample(range(1, 101), 100)\n",
    "    numbers = random.sample(range(1, 101), 100)\n",
    "    players = range(1,101)\n",
    "    prison = pd.DataFrame({'boxes' : boxes,'numbers' : numbers}, columns = ['boxes','numbers'], index = players)\n",
    "    \n",
    "    for person in players: # Each prisoner enters the room\n",
    "        \n",
    "        trial = 1\n",
    "        a = prison.loc[prison[prison.boxes == person].index, 'numbers'].values[0]\n",
    "        \n",
    "        if person == a: # First try luck\n",
    "            continue\n",
    "        \n",
    "        while trial <= 51: # Loops through the sequence of trials of each prisoner\n",
    "            \n",
    "            b = prison.loc[prison[prison.boxes == a].index, 'numbers'].values[0]\n",
    "            \n",
    "            if person == b:\n",
    "                break\n",
    "            \n",
    "            a = b\n",
    "            trial += 1\n",
    "        if trial == 51:\n",
    "            failures.append('Fail')\n",
    "            break\n",
    "    n+=1"
   ]
  },
  {
   "cell_type": "code",
   "execution_count": 41,
   "id": "150058af",
   "metadata": {},
   "outputs": [
    {
     "data": {
      "text/plain": [
       "['Fail']"
      ]
     },
     "execution_count": 41,
     "metadata": {},
     "output_type": "execute_result"
    }
   ],
   "source": [
    "# List of Failures\n",
    "failures"
   ]
  },
  {
   "cell_type": "markdown",
   "id": "b86739d3",
   "metadata": {},
   "source": [
    "### Only 1 Fail happened through 100 iterations\n",
    "### This means that the strategy actually works"
   ]
  }
 ],
 "metadata": {
  "kernelspec": {
   "display_name": "Python 3 (ipykernel)",
   "language": "python",
   "name": "python3"
  },
  "language_info": {
   "codemirror_mode": {
    "name": "ipython",
    "version": 3
   },
   "file_extension": ".py",
   "mimetype": "text/x-python",
   "name": "python",
   "nbconvert_exporter": "python",
   "pygments_lexer": "ipython3",
   "version": "3.8.5"
  }
 },
 "nbformat": 4,
 "nbformat_minor": 5
}
